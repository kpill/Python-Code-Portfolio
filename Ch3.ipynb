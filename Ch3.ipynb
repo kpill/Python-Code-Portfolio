{
 "cells": [
  {
   "cell_type": "markdown",
   "metadata": {},
   "source": [
    "I did all the required exercises and fully understand them."
   ]
  },
  {
   "cell_type": "markdown",
   "metadata": {},
   "source": [
    "## 3.10 7% Investment Return"
   ]
  },
  {
   "cell_type": "code",
   "execution_count": 15,
   "metadata": {},
   "outputs": [
    {
     "name": "stdout",
     "output_type": "stream",
     "text": [
      "The investment return amount in 10 years is $1967.15.\n",
      "The investment return amount in 20 years is $3869.68.\n",
      "The investment return amount in 30 years is $7612.26.\n"
     ]
    }
   ],
   "source": [
    "# In this problem, we talk about investment return. The amount is monetary, so we import type Decimal.\n",
    "\n",
    "from decimal import Decimal\n",
    "original_amount = Decimal('1000.00')\n",
    "annual_rate = Decimal('0.07')\n",
    "\n",
    "# The formula for investment return is a = p(1 + r)^n. The variables are as follows:\n",
    "#  p is the original amount invested (i.e., the principal of $1000)\n",
    "#  r is the annual rate of return (7%)\n",
    "#  n is the number of years (in this problem, we will use 10, 20, 30 years)\n",
    "#  a is the amount on deposit at the end of the nth year\n",
    "\n",
    "for years in [10,20,30]:\n",
    "    amount = original_amount * (1 + annual_rate) ** years\n",
    "    print(f'The investment return amount in {years} years is ${amount:.2f}.')\n",
    "    \n",
    "# The result is formatted string literals with the amount in 10, 20, 30 years. The amount is two decimals long."
   ]
  },
  {
   "cell_type": "markdown",
   "metadata": {},
   "source": [
    "## 3.13 DS: Factorials"
   ]
  },
  {
   "cell_type": "code",
   "execution_count": 9,
   "metadata": {},
   "outputs": [
    {
     "name": "stdin",
     "output_type": "stream",
     "text": [
      "Enter a nonnegative integer:  3\n"
     ]
    },
    {
     "data": {
      "text/plain": [
       "6"
      ]
     },
     "execution_count": 9,
     "metadata": {},
     "output_type": "execute_result"
    }
   ],
   "source": [
    "# In this problem, we talk about factorials. We first put an input value.\n",
    "value = int(input('Enter a nonnegative integer: '))\n",
    "\n",
    "# We create a sequence of numbers from 0 to value - 1.\n",
    "x = range(value)\n",
    "\n",
    "# The definition for factorials are a sequence (ex. 1, 2, 3, ...) multiplies together until we reach the top.\n",
    "# In the for loop, we first add 1 to all the range.\n",
    "factorial = 1\n",
    "for n in x:\n",
    "    n += 1 \n",
    "    factorial *= n\n",
    "    \n",
    "# The result when I input 30 is a huge number.\n",
    "factorial"
   ]
  },
  {
   "cell_type": "markdown",
   "metadata": {},
   "source": [
    "When I used the integer input 10000, Python could not produce a factorial value."
   ]
  },
  {
   "cell_type": "markdown",
   "metadata": {},
   "source": [
    "## 3.31 DS:Categorical Data"
   ]
  },
  {
   "cell_type": "markdown",
   "metadata": {},
   "source": [
    "Mode is best for categorical data, since it allows us to see which category has the most values. "
   ]
  },
  {
   "cell_type": "markdown",
   "metadata": {},
   "source": [
    "## 3.17 Nested Loops"
   ]
  },
  {
   "cell_type": "markdown",
   "metadata": {},
   "source": [
    "In this problem, we talk about nested loops. The nested loops always does the inner loop first. For example, consider the first pattern. The outer loop is the \"row\", and the inner loop is the \"asterisk\". The first integer in \"row\" is 0, and \"asterisk\" is the range from 0 to 9. Then, the \"row\" goes to 1, and \"asterisk\" is the range from 0 to 9. Eventually, the \"row\" completes the range, and the loop stops."
   ]
  },
  {
   "cell_type": "code",
   "execution_count": 5,
   "metadata": {},
   "outputs": [
    {
     "name": "stdout",
     "output_type": "stream",
     "text": [
      "*         \n",
      "**        \n",
      "***       \n",
      "****      \n",
      "*****     \n",
      "******    \n",
      "*******   \n",
      "********  \n",
      "********* \n",
      "**********\n"
     ]
    }
   ],
   "source": [
    "# First Pattern\n",
    "for row in range(10):\n",
    "    for asterisk in range(10):\n",
    "        if row >= asterisk:\n",
    "            print('*', end='')\n",
    "        else:\n",
    "            print(' ', end='')\n",
    "    print() "
   ]
  },
  {
   "cell_type": "code",
   "execution_count": 6,
   "metadata": {},
   "outputs": [
    {
     "name": "stdout",
     "output_type": "stream",
     "text": [
      "**********\n",
      "********* \n",
      "********  \n",
      "*******   \n",
      "******    \n",
      "*****     \n",
      "****      \n",
      "***       \n",
      "**        \n",
      "*         \n"
     ]
    }
   ],
   "source": [
    "#Second Pattern\n",
    "for row in range(10):\n",
    "    for asterisk in range(10):\n",
    "        if asterisk < 10 - row:\n",
    "            print('*', end='')\n",
    "        else:\n",
    "            print(' ', end='')\n",
    "    print()"
   ]
  },
  {
   "cell_type": "code",
   "execution_count": 7,
   "metadata": {},
   "outputs": [
    {
     "name": "stdout",
     "output_type": "stream",
     "text": [
      "**********\n",
      " *********\n",
      "  ********\n",
      "   *******\n",
      "    ******\n",
      "     *****\n",
      "      ****\n",
      "       ***\n",
      "        **\n",
      "         *\n"
     ]
    }
   ],
   "source": [
    "#Third Pattern\n",
    "for row in range(10):\n",
    "    for asterisk in range(10):\n",
    "        if asterisk >= row:\n",
    "            print('*', end='')\n",
    "        else:\n",
    "            print(' ', end='')\n",
    "    print()"
   ]
  },
  {
   "cell_type": "code",
   "execution_count": 8,
   "metadata": {},
   "outputs": [
    {
     "name": "stdout",
     "output_type": "stream",
     "text": [
      "         *\n",
      "        **\n",
      "       ***\n",
      "      ****\n",
      "     *****\n",
      "    ******\n",
      "   *******\n",
      "  ********\n",
      " *********\n",
      "**********\n"
     ]
    }
   ],
   "source": [
    "#Fourth Pattern\n",
    "for row in range(10):\n",
    "    for asterisk in range(10):\n",
    "        if asterisk >= 9 - row:\n",
    "            print('*', end='')\n",
    "        else:\n",
    "            print(' ', end='')\n",
    "    print()"
   ]
  },
  {
   "cell_type": "markdown",
   "metadata": {},
   "source": [
    "## 3.26 (Research: Anscombe’s Quartet)"
   ]
  },
  {
   "cell_type": "markdown",
   "metadata": {},
   "source": [
    "I searched up Anscombe's Quartet and I found four datasets that, while the descriptive statistics are identical, the output are different. Meaning, we need more than descriptive statistics to see the data and understand it."
   ]
  },
  {
   "cell_type": "code",
   "execution_count": null,
   "metadata": {},
   "outputs": [],
   "source": []
  }
 ],
 "metadata": {
  "kernelspec": {
   "display_name": "Python 3",
   "language": "python",
   "name": "python3"
  },
  "language_info": {
   "codemirror_mode": {
    "name": "ipython",
    "version": 3
   },
   "file_extension": ".py",
   "mimetype": "text/x-python",
   "name": "python",
   "nbconvert_exporter": "python",
   "pygments_lexer": "ipython3",
   "version": "3.8.5"
  }
 },
 "nbformat": 4,
 "nbformat_minor": 4
}
