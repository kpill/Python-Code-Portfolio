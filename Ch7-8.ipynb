{
 "cells": [
  {
   "cell_type": "markdown",
   "metadata": {},
   "source": [
    "I did all of the required exercises and understand them fully."
   ]
  },
  {
   "cell_type": "code",
   "execution_count": 1,
   "metadata": {},
   "outputs": [],
   "source": [
    "import pandas as pd"
   ]
  },
  {
   "cell_type": "markdown",
   "metadata": {},
   "source": [
    "# 7.23 Data Science: Pandas `DataFrames`"
   ]
  },
  {
   "cell_type": "markdown",
   "metadata": {},
   "source": [
    "## A. Create a DataFrame named temperatures from a dictionary of three temperature readings each for 'Maxine', 'James' and 'Amanda'."
   ]
  },
  {
   "cell_type": "code",
   "execution_count": 2,
   "metadata": {},
   "outputs": [
    {
     "data": {
      "text/html": [
       "<div>\n",
       "<style scoped>\n",
       "    .dataframe tbody tr th:only-of-type {\n",
       "        vertical-align: middle;\n",
       "    }\n",
       "\n",
       "    .dataframe tbody tr th {\n",
       "        vertical-align: top;\n",
       "    }\n",
       "\n",
       "    .dataframe thead th {\n",
       "        text-align: right;\n",
       "    }\n",
       "</style>\n",
       "<table border=\"1\" class=\"dataframe\">\n",
       "  <thead>\n",
       "    <tr style=\"text-align: right;\">\n",
       "      <th></th>\n",
       "      <th>Maxine</th>\n",
       "      <th>James</th>\n",
       "      <th>Amanda</th>\n",
       "    </tr>\n",
       "  </thead>\n",
       "  <tbody>\n",
       "    <tr>\n",
       "      <th>0</th>\n",
       "      <td>98.6</td>\n",
       "      <td>98.7</td>\n",
       "      <td>98.1</td>\n",
       "    </tr>\n",
       "    <tr>\n",
       "      <th>1</th>\n",
       "      <td>98.9</td>\n",
       "      <td>99.1</td>\n",
       "      <td>99.7</td>\n",
       "    </tr>\n",
       "    <tr>\n",
       "      <th>2</th>\n",
       "      <td>100.0</td>\n",
       "      <td>99.2</td>\n",
       "      <td>98.6</td>\n",
       "    </tr>\n",
       "  </tbody>\n",
       "</table>\n",
       "</div>"
      ],
      "text/plain": [
       "   Maxine  James  Amanda\n",
       "0    98.6   98.7    98.1\n",
       "1    98.9   99.1    99.7\n",
       "2   100.0   99.2    98.6"
      ]
     },
     "execution_count": 2,
     "metadata": {},
     "output_type": "execute_result"
    }
   ],
   "source": [
    "temperatures_dictionary = {'Maxine': [98.6, 98.9, 100.0], 'James': [98.7, 99.1, 99.2], 'Amanda': [98.1, 99.7, 98.6]}\n",
    "temperatures_dataframe = pd.DataFrame(temperatures_dictionary)\n",
    "temperatures_dataframe"
   ]
  },
  {
   "cell_type": "markdown",
   "metadata": {},
   "source": [
    "## B. Recreate the DataFrame temperatures in Part (a) with custom indices using the index keyword argument and a list containing 'Morning', 'Afternoon' and 'Evening'."
   ]
  },
  {
   "cell_type": "code",
   "execution_count": 3,
   "metadata": {},
   "outputs": [
    {
     "data": {
      "text/html": [
       "<div>\n",
       "<style scoped>\n",
       "    .dataframe tbody tr th:only-of-type {\n",
       "        vertical-align: middle;\n",
       "    }\n",
       "\n",
       "    .dataframe tbody tr th {\n",
       "        vertical-align: top;\n",
       "    }\n",
       "\n",
       "    .dataframe thead th {\n",
       "        text-align: right;\n",
       "    }\n",
       "</style>\n",
       "<table border=\"1\" class=\"dataframe\">\n",
       "  <thead>\n",
       "    <tr style=\"text-align: right;\">\n",
       "      <th></th>\n",
       "      <th>Maxine</th>\n",
       "      <th>James</th>\n",
       "      <th>Amanda</th>\n",
       "    </tr>\n",
       "  </thead>\n",
       "  <tbody>\n",
       "    <tr>\n",
       "      <th>Morning</th>\n",
       "      <td>98.6</td>\n",
       "      <td>98.7</td>\n",
       "      <td>98.1</td>\n",
       "    </tr>\n",
       "    <tr>\n",
       "      <th>Afternoon</th>\n",
       "      <td>98.9</td>\n",
       "      <td>99.1</td>\n",
       "      <td>99.7</td>\n",
       "    </tr>\n",
       "    <tr>\n",
       "      <th>Evening</th>\n",
       "      <td>100.0</td>\n",
       "      <td>99.2</td>\n",
       "      <td>98.6</td>\n",
       "    </tr>\n",
       "  </tbody>\n",
       "</table>\n",
       "</div>"
      ],
      "text/plain": [
       "           Maxine  James  Amanda\n",
       "Morning      98.6   98.7    98.1\n",
       "Afternoon    98.9   99.1    99.7\n",
       "Evening     100.0   99.2    98.6"
      ]
     },
     "execution_count": 3,
     "metadata": {},
     "output_type": "execute_result"
    }
   ],
   "source": [
    "temperatures_dataframe = pd.DataFrame(temperatures_dictionary, index=['Morning', 'Afternoon', 'Evening'])\n",
    "temperatures_dataframe"
   ]
  },
  {
   "cell_type": "markdown",
   "metadata": {},
   "source": [
    "## C. Select from temperatures the column of temperature readings for 'Maxine'."
   ]
  },
  {
   "cell_type": "code",
   "execution_count": 4,
   "metadata": {},
   "outputs": [
    {
     "data": {
      "text/plain": [
       "Morning       98.6\n",
       "Afternoon     98.9\n",
       "Evening      100.0\n",
       "Name: Maxine, dtype: float64"
      ]
     },
     "execution_count": 4,
     "metadata": {},
     "output_type": "execute_result"
    }
   ],
   "source": [
    "temperatures_dataframe['Maxine']"
   ]
  },
  {
   "cell_type": "markdown",
   "metadata": {},
   "source": [
    "## D. Select from temperatures the row of 'Morning' temperature readings."
   ]
  },
  {
   "cell_type": "code",
   "execution_count": 5,
   "metadata": {},
   "outputs": [
    {
     "data": {
      "text/plain": [
       "Maxine    98.6\n",
       "James     98.7\n",
       "Amanda    98.1\n",
       "Name: Morning, dtype: float64"
      ]
     },
     "execution_count": 5,
     "metadata": {},
     "output_type": "execute_result"
    }
   ],
   "source": [
    "temperatures_dataframe.loc['Morning'] #Access a group of rows and columns by label(s) or a boolean array."
   ]
  },
  {
   "cell_type": "markdown",
   "metadata": {},
   "source": [
    "## E. Select from temperatures the rows for 'Morning' and 'Evening' temperature readings."
   ]
  },
  {
   "cell_type": "code",
   "execution_count": 6,
   "metadata": {},
   "outputs": [
    {
     "data": {
      "text/html": [
       "<div>\n",
       "<style scoped>\n",
       "    .dataframe tbody tr th:only-of-type {\n",
       "        vertical-align: middle;\n",
       "    }\n",
       "\n",
       "    .dataframe tbody tr th {\n",
       "        vertical-align: top;\n",
       "    }\n",
       "\n",
       "    .dataframe thead th {\n",
       "        text-align: right;\n",
       "    }\n",
       "</style>\n",
       "<table border=\"1\" class=\"dataframe\">\n",
       "  <thead>\n",
       "    <tr style=\"text-align: right;\">\n",
       "      <th></th>\n",
       "      <th>Maxine</th>\n",
       "      <th>James</th>\n",
       "      <th>Amanda</th>\n",
       "    </tr>\n",
       "  </thead>\n",
       "  <tbody>\n",
       "    <tr>\n",
       "      <th>Morning</th>\n",
       "      <td>98.6</td>\n",
       "      <td>98.7</td>\n",
       "      <td>98.1</td>\n",
       "    </tr>\n",
       "    <tr>\n",
       "      <th>Evening</th>\n",
       "      <td>100.0</td>\n",
       "      <td>99.2</td>\n",
       "      <td>98.6</td>\n",
       "    </tr>\n",
       "  </tbody>\n",
       "</table>\n",
       "</div>"
      ],
      "text/plain": [
       "         Maxine  James  Amanda\n",
       "Morning    98.6   98.7    98.1\n",
       "Evening   100.0   99.2    98.6"
      ]
     },
     "execution_count": 6,
     "metadata": {},
     "output_type": "execute_result"
    }
   ],
   "source": [
    "temperatures_dataframe.loc[['Morning', 'Evening'], :]"
   ]
  },
  {
   "cell_type": "markdown",
   "metadata": {},
   "source": [
    "## F. Select from temperatures the columns of temperature readings for 'Amanda' and 'Maxine'."
   ]
  },
  {
   "cell_type": "code",
   "execution_count": 7,
   "metadata": {},
   "outputs": [
    {
     "data": {
      "text/html": [
       "<div>\n",
       "<style scoped>\n",
       "    .dataframe tbody tr th:only-of-type {\n",
       "        vertical-align: middle;\n",
       "    }\n",
       "\n",
       "    .dataframe tbody tr th {\n",
       "        vertical-align: top;\n",
       "    }\n",
       "\n",
       "    .dataframe thead th {\n",
       "        text-align: right;\n",
       "    }\n",
       "</style>\n",
       "<table border=\"1\" class=\"dataframe\">\n",
       "  <thead>\n",
       "    <tr style=\"text-align: right;\">\n",
       "      <th></th>\n",
       "      <th>Amanda</th>\n",
       "      <th>Maxine</th>\n",
       "    </tr>\n",
       "  </thead>\n",
       "  <tbody>\n",
       "    <tr>\n",
       "      <th>Morning</th>\n",
       "      <td>98.1</td>\n",
       "      <td>98.6</td>\n",
       "    </tr>\n",
       "    <tr>\n",
       "      <th>Afternoon</th>\n",
       "      <td>99.7</td>\n",
       "      <td>98.9</td>\n",
       "    </tr>\n",
       "    <tr>\n",
       "      <th>Evening</th>\n",
       "      <td>98.6</td>\n",
       "      <td>100.0</td>\n",
       "    </tr>\n",
       "  </tbody>\n",
       "</table>\n",
       "</div>"
      ],
      "text/plain": [
       "           Amanda  Maxine\n",
       "Morning      98.1    98.6\n",
       "Afternoon    99.7    98.9\n",
       "Evening      98.6   100.0"
      ]
     },
     "execution_count": 7,
     "metadata": {},
     "output_type": "execute_result"
    }
   ],
   "source": [
    "temperatures_dataframe.loc[:, ['Amanda', 'Maxine']]"
   ]
  },
  {
   "cell_type": "markdown",
   "metadata": {},
   "source": [
    "## G. Select from temperatures the elements for 'Amanda' and 'Maxine' in the 'Morning' and 'Afternoon'."
   ]
  },
  {
   "cell_type": "code",
   "execution_count": 8,
   "metadata": {},
   "outputs": [
    {
     "data": {
      "text/html": [
       "<div>\n",
       "<style scoped>\n",
       "    .dataframe tbody tr th:only-of-type {\n",
       "        vertical-align: middle;\n",
       "    }\n",
       "\n",
       "    .dataframe tbody tr th {\n",
       "        vertical-align: top;\n",
       "    }\n",
       "\n",
       "    .dataframe thead th {\n",
       "        text-align: right;\n",
       "    }\n",
       "</style>\n",
       "<table border=\"1\" class=\"dataframe\">\n",
       "  <thead>\n",
       "    <tr style=\"text-align: right;\">\n",
       "      <th></th>\n",
       "      <th>Amanda</th>\n",
       "      <th>Maxine</th>\n",
       "    </tr>\n",
       "  </thead>\n",
       "  <tbody>\n",
       "    <tr>\n",
       "      <th>Morning</th>\n",
       "      <td>98.1</td>\n",
       "      <td>98.6</td>\n",
       "    </tr>\n",
       "    <tr>\n",
       "      <th>Afternoon</th>\n",
       "      <td>99.7</td>\n",
       "      <td>98.9</td>\n",
       "    </tr>\n",
       "  </tbody>\n",
       "</table>\n",
       "</div>"
      ],
      "text/plain": [
       "           Amanda  Maxine\n",
       "Morning      98.1    98.6\n",
       "Afternoon    99.7    98.9"
      ]
     },
     "execution_count": 8,
     "metadata": {},
     "output_type": "execute_result"
    }
   ],
   "source": [
    "temperatures_dataframe.loc[['Morning', 'Afternoon'], ['Amanda', 'Maxine']]"
   ]
  },
  {
   "cell_type": "markdown",
   "metadata": {},
   "source": [
    "## H. Use the describe method to produce temperatures’ descriptive statistics."
   ]
  },
  {
   "cell_type": "code",
   "execution_count": 9,
   "metadata": {},
   "outputs": [
    {
     "data": {
      "text/html": [
       "<div>\n",
       "<style scoped>\n",
       "    .dataframe tbody tr th:only-of-type {\n",
       "        vertical-align: middle;\n",
       "    }\n",
       "\n",
       "    .dataframe tbody tr th {\n",
       "        vertical-align: top;\n",
       "    }\n",
       "\n",
       "    .dataframe thead th {\n",
       "        text-align: right;\n",
       "    }\n",
       "</style>\n",
       "<table border=\"1\" class=\"dataframe\">\n",
       "  <thead>\n",
       "    <tr style=\"text-align: right;\">\n",
       "      <th></th>\n",
       "      <th>Maxine</th>\n",
       "      <th>James</th>\n",
       "      <th>Amanda</th>\n",
       "    </tr>\n",
       "  </thead>\n",
       "  <tbody>\n",
       "    <tr>\n",
       "      <th>count</th>\n",
       "      <td>3.000000</td>\n",
       "      <td>3.000000</td>\n",
       "      <td>3.000000</td>\n",
       "    </tr>\n",
       "    <tr>\n",
       "      <th>mean</th>\n",
       "      <td>99.166667</td>\n",
       "      <td>99.000000</td>\n",
       "      <td>98.800000</td>\n",
       "    </tr>\n",
       "    <tr>\n",
       "      <th>std</th>\n",
       "      <td>0.737111</td>\n",
       "      <td>0.264575</td>\n",
       "      <td>0.818535</td>\n",
       "    </tr>\n",
       "    <tr>\n",
       "      <th>min</th>\n",
       "      <td>98.600000</td>\n",
       "      <td>98.700000</td>\n",
       "      <td>98.100000</td>\n",
       "    </tr>\n",
       "    <tr>\n",
       "      <th>25%</th>\n",
       "      <td>98.750000</td>\n",
       "      <td>98.900000</td>\n",
       "      <td>98.350000</td>\n",
       "    </tr>\n",
       "    <tr>\n",
       "      <th>50%</th>\n",
       "      <td>98.900000</td>\n",
       "      <td>99.100000</td>\n",
       "      <td>98.600000</td>\n",
       "    </tr>\n",
       "    <tr>\n",
       "      <th>75%</th>\n",
       "      <td>99.450000</td>\n",
       "      <td>99.150000</td>\n",
       "      <td>99.150000</td>\n",
       "    </tr>\n",
       "    <tr>\n",
       "      <th>max</th>\n",
       "      <td>100.000000</td>\n",
       "      <td>99.200000</td>\n",
       "      <td>99.700000</td>\n",
       "    </tr>\n",
       "  </tbody>\n",
       "</table>\n",
       "</div>"
      ],
      "text/plain": [
       "           Maxine      James     Amanda\n",
       "count    3.000000   3.000000   3.000000\n",
       "mean    99.166667  99.000000  98.800000\n",
       "std      0.737111   0.264575   0.818535\n",
       "min     98.600000  98.700000  98.100000\n",
       "25%     98.750000  98.900000  98.350000\n",
       "50%     98.900000  99.100000  98.600000\n",
       "75%     99.450000  99.150000  99.150000\n",
       "max    100.000000  99.200000  99.700000"
      ]
     },
     "execution_count": 9,
     "metadata": {},
     "output_type": "execute_result"
    }
   ],
   "source": [
    "temperatures_dataframe.describe()"
   ]
  },
  {
   "cell_type": "markdown",
   "metadata": {},
   "source": [
    "## I. Transpose temperatures."
   ]
  },
  {
   "cell_type": "code",
   "execution_count": 10,
   "metadata": {},
   "outputs": [
    {
     "data": {
      "text/html": [
       "<div>\n",
       "<style scoped>\n",
       "    .dataframe tbody tr th:only-of-type {\n",
       "        vertical-align: middle;\n",
       "    }\n",
       "\n",
       "    .dataframe tbody tr th {\n",
       "        vertical-align: top;\n",
       "    }\n",
       "\n",
       "    .dataframe thead th {\n",
       "        text-align: right;\n",
       "    }\n",
       "</style>\n",
       "<table border=\"1\" class=\"dataframe\">\n",
       "  <thead>\n",
       "    <tr style=\"text-align: right;\">\n",
       "      <th></th>\n",
       "      <th>Morning</th>\n",
       "      <th>Afternoon</th>\n",
       "      <th>Evening</th>\n",
       "    </tr>\n",
       "  </thead>\n",
       "  <tbody>\n",
       "    <tr>\n",
       "      <th>Maxine</th>\n",
       "      <td>98.6</td>\n",
       "      <td>98.9</td>\n",
       "      <td>100.0</td>\n",
       "    </tr>\n",
       "    <tr>\n",
       "      <th>James</th>\n",
       "      <td>98.7</td>\n",
       "      <td>99.1</td>\n",
       "      <td>99.2</td>\n",
       "    </tr>\n",
       "    <tr>\n",
       "      <th>Amanda</th>\n",
       "      <td>98.1</td>\n",
       "      <td>99.7</td>\n",
       "      <td>98.6</td>\n",
       "    </tr>\n",
       "  </tbody>\n",
       "</table>\n",
       "</div>"
      ],
      "text/plain": [
       "        Morning  Afternoon  Evening\n",
       "Maxine     98.6       98.9    100.0\n",
       "James      98.7       99.1     99.2\n",
       "Amanda     98.1       99.7     98.6"
      ]
     },
     "execution_count": 10,
     "metadata": {},
     "output_type": "execute_result"
    }
   ],
   "source": [
    "temperatures_dataframe.T #transpose"
   ]
  },
  {
   "cell_type": "markdown",
   "metadata": {},
   "source": [
    "## J. Sort temperatures so that its column names are in alphabetical order."
   ]
  },
  {
   "cell_type": "code",
   "execution_count": 11,
   "metadata": {},
   "outputs": [
    {
     "data": {
      "text/html": [
       "<div>\n",
       "<style scoped>\n",
       "    .dataframe tbody tr th:only-of-type {\n",
       "        vertical-align: middle;\n",
       "    }\n",
       "\n",
       "    .dataframe tbody tr th {\n",
       "        vertical-align: top;\n",
       "    }\n",
       "\n",
       "    .dataframe thead th {\n",
       "        text-align: right;\n",
       "    }\n",
       "</style>\n",
       "<table border=\"1\" class=\"dataframe\">\n",
       "  <thead>\n",
       "    <tr style=\"text-align: right;\">\n",
       "      <th></th>\n",
       "      <th>Amanda</th>\n",
       "      <th>James</th>\n",
       "      <th>Maxine</th>\n",
       "    </tr>\n",
       "  </thead>\n",
       "  <tbody>\n",
       "    <tr>\n",
       "      <th>Morning</th>\n",
       "      <td>98.1</td>\n",
       "      <td>98.7</td>\n",
       "      <td>98.6</td>\n",
       "    </tr>\n",
       "    <tr>\n",
       "      <th>Afternoon</th>\n",
       "      <td>99.7</td>\n",
       "      <td>99.1</td>\n",
       "      <td>98.9</td>\n",
       "    </tr>\n",
       "    <tr>\n",
       "      <th>Evening</th>\n",
       "      <td>98.6</td>\n",
       "      <td>99.2</td>\n",
       "      <td>100.0</td>\n",
       "    </tr>\n",
       "  </tbody>\n",
       "</table>\n",
       "</div>"
      ],
      "text/plain": [
       "           Amanda  James  Maxine\n",
       "Morning      98.1   98.7    98.6\n",
       "Afternoon    99.7   99.1    98.9\n",
       "Evening      98.6   99.2   100.0"
      ]
     },
     "execution_count": 11,
     "metadata": {},
     "output_type": "execute_result"
    }
   ],
   "source": [
    "temperatures_dataframe.sort_index(axis=1)"
   ]
  },
  {
   "cell_type": "markdown",
   "metadata": {},
   "source": [
    "# 8.3 Pig Latin"
   ]
  },
  {
   "cell_type": "markdown",
   "metadata": {},
   "source": [
    "Write a script that encodes English-language phrases into a form of coded language called pig Latin. There are many different ways to form pig Latin phrases. For simplicity, use the following algorithm:\n",
    "\n",
    "To form a pig Latin phrase from an English-language phrase, tokenize the phrase into words with string method split. To translate each English word into a pig Latin word, place the first letter of the English word at the end of the word and add the letters “ay.” Thus, the word “jump” becomes “umpjay,” the word “the” becomes “hetay,” and the word “computer” becomes “omputercay.” If the word starts with a vowel, just add “ay.” Blanks between words remain as blanks. Assume the following: The English phrase consists of words separated by blanks, there are no punctuation marks and all words have two or more letters. Enable the user to enter a sentence, then display the sentence in pig Latin."
   ]
  },
  {
   "cell_type": "code",
   "execution_count": 12,
   "metadata": {},
   "outputs": [
    {
     "name": "stdin",
     "output_type": "stream",
     "text": [
      "Enter a sentence:  I love Python\n"
     ]
    },
    {
     "name": "stdout",
     "output_type": "stream",
     "text": [
      "i ovelay ythonpay\n"
     ]
    }
   ],
   "source": [
    "def pig_latin(sentence):\n",
    "    words = sentence.lower().split()\n",
    "    for index, word in enumerate(words):\n",
    "        if len(word) > 1:\n",
    "            if word[0] in 'aeiou':\n",
    "                words[index] = f'{word}ay'\n",
    "            else:\n",
    "                words[index] = f'{word[1:]}{word[0]}ay'\n",
    "    \n",
    "    return ' '.join(words)\n",
    "\n",
    "sentence = input('Enter a sentence: ')\n",
    "print(pig_latin(sentence))"
   ]
  },
  {
   "cell_type": "markdown",
   "metadata": {},
   "source": [
    "# 8.8 Convert Integers to Emojis"
   ]
  },
  {
   "cell_type": "markdown",
   "metadata": {},
   "source": [
    "Display 10 emojis beginning with the smiley face, which has the value 0x1F600"
   ]
  },
  {
   "cell_type": "code",
   "execution_count": 13,
   "metadata": {},
   "outputs": [
    {
     "name": "stdout",
     "output_type": "stream",
     "text": [
      "1F600: 😀\n",
      "1F601: 😁\n",
      "1F602: 😂\n",
      "1F603: 😃\n",
      "1F604: 😄\n",
      "1F605: 😅\n",
      "1F606: 😆\n",
      "1F607: 😇\n",
      "1F608: 😈\n",
      "1F609: 😉\n",
      "1F60A: 😊\n",
      "1F60B: 😋\n",
      "1F60C: 😌\n",
      "1F60D: 😍\n",
      "1F60E: 😎\n",
      "1F60F: 😏\n",
      "1F610: 😐\n",
      "1F611: 😑\n",
      "1F612: 😒\n",
      "1F613: 😓\n",
      "1F614: 😔\n",
      "1F615: 😕\n",
      "1F616: 😖\n",
      "1F617: 😗\n",
      "1F618: 😘\n",
      "1F619: 😙\n",
      "1F61A: 😚\n",
      "1F61B: 😛\n",
      "1F61C: 😜\n",
      "1F61D: 😝\n",
      "1F61E: 😞\n",
      "1F61F: 😟\n",
      "1F620: 😠\n",
      "1F621: 😡\n",
      "1F622: 😢\n",
      "1F623: 😣\n",
      "1F624: 😤\n",
      "1F625: 😥\n",
      "1F626: 😦\n",
      "1F627: 😧\n",
      "1F628: 😨\n",
      "1F629: 😩\n",
      "1F62A: 😪\n",
      "1F62B: 😫\n",
      "1F62C: 😬\n",
      "1F62D: 😭\n",
      "1F62E: 😮\n",
      "1F62F: 😯\n",
      "1F630: 😰\n",
      "1F631: 😱\n",
      "1F632: 😲\n",
      "1F633: 😳\n",
      "1F634: 😴\n",
      "1F635: 😵\n",
      "1F636: 😶\n",
      "1F637: 😷\n",
      "1F638: 😸\n",
      "1F639: 😹\n",
      "1F63A: 😺\n",
      "1F63B: 😻\n",
      "1F63C: 😼\n",
      "1F63D: 😽\n",
      "1F63E: 😾\n",
      "1F63F: 😿\n",
      "1F640: 🙀\n",
      "1F641: 🙁\n",
      "1F642: 🙂\n",
      "1F643: 🙃\n",
      "1F644: 🙄\n",
      "1F645: 🙅\n",
      "1F646: 🙆\n",
      "1F647: 🙇\n",
      "1F648: 🙈\n",
      "1F649: 🙉\n",
      "1F64A: 🙊\n",
      "1F64B: 🙋\n",
      "1F64C: 🙌\n",
      "1F64D: 🙍\n",
      "1F64E: 🙎\n",
      "1F64F: 🙏\n",
      "1F650: 🙐\n",
      "1F651: 🙑\n",
      "1F652: 🙒\n",
      "1F653: 🙓\n",
      "1F654: 🙔\n",
      "1F655: 🙕\n",
      "1F656: 🙖\n",
      "1F657: 🙗\n",
      "1F658: 🙘\n",
      "1F659: 🙙\n",
      "1F65A: 🙚\n",
      "1F65B: 🙛\n",
      "1F65C: 🙜\n",
      "1F65D: 🙝\n",
      "1F65E: 🙞\n",
      "1F65F: 🙟\n",
      "1F660: 🙠\n",
      "1F661: 🙡\n",
      "1F662: 🙢\n",
      "1F663: 🙣\n"
     ]
    }
   ],
   "source": [
    "for emoji in range(0x1F600, 0x1F600 + 100):\n",
    "    print(f'{emoji:X}: {emoji:c}')  # X formats integers as hexadecimal values\n"
   ]
  },
  {
   "cell_type": "markdown",
   "metadata": {},
   "source": [
    "# 8.13 Regular Expressions: Condense Spaces to a Single Space"
   ]
  },
  {
   "cell_type": "markdown",
   "metadata": {},
   "source": [
    "Check whether a sentence contains more than one space between words. If so, remove the extra spaces and display the results."
   ]
  },
  {
   "cell_type": "code",
   "execution_count": 18,
   "metadata": {},
   "outputs": [
    {
     "name": "stdin",
     "output_type": "stream",
     "text": [
      "Enter a sentence I    am   cooked    eggs\n"
     ]
    },
    {
     "data": {
      "text/plain": [
       "'I am cooked eggs'"
      ]
     },
     "execution_count": 18,
     "metadata": {},
     "output_type": "execute_result"
    }
   ],
   "source": [
    "sentence = input(\"Enter a sentence\")\n",
    "\" \".join(sentence.split())"
   ]
  },
  {
   "cell_type": "code",
   "execution_count": null,
   "metadata": {},
   "outputs": [],
   "source": []
  }
 ],
 "metadata": {
  "kernelspec": {
   "display_name": "Python 3",
   "language": "python",
   "name": "python3"
  },
  "language_info": {
   "codemirror_mode": {
    "name": "ipython",
    "version": 3
   },
   "file_extension": ".py",
   "mimetype": "text/x-python",
   "name": "python",
   "nbconvert_exporter": "python",
   "pygments_lexer": "ipython3",
   "version": "3.8.5"
  }
 },
 "nbformat": 4,
 "nbformat_minor": 4
}
