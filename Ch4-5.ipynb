{
 "cells": [
  {
   "cell_type": "markdown",
   "metadata": {},
   "source": [
    "I did all of the required exercises and fully understand them."
   ]
  },
  {
   "cell_type": "code",
   "execution_count": 8,
   "metadata": {},
   "outputs": [],
   "source": [
    "import numpy as np"
   ]
  },
  {
   "cell_type": "markdown",
   "metadata": {},
   "source": [
    "## 4.9 Data Science: Temperature Conversion"
   ]
  },
  {
   "cell_type": "markdown",
   "metadata": {},
   "source": [
    "Implement a fahrenheit function that returns the Fahrenheit equivalent of a Celsius temperature. Use this function to print a chart showing the Fahrenheit equivalents of all Celsius temperatures in the range 0–100 degrees."
   ]
  },
  {
   "cell_type": "code",
   "execution_count": 3,
   "metadata": {},
   "outputs": [
    {
     "name": "stdout",
     "output_type": "stream",
     "text": [
      "   Celsius  Fahrenheit\n",
      "         0        32.0\n",
      "         1        33.8\n",
      "         2        35.6\n",
      "         3        37.4\n",
      "         4        39.2\n",
      "         5        41.0\n",
      "         6        42.8\n",
      "         7        44.6\n",
      "         8        46.4\n",
      "         9        48.2\n",
      "        10        50.0\n",
      "        11        51.8\n",
      "        12        53.6\n",
      "        13        55.4\n",
      "        14        57.2\n",
      "        15        59.0\n",
      "        16        60.8\n",
      "        17        62.6\n",
      "        18        64.4\n",
      "        19        66.2\n",
      "        20        68.0\n",
      "        21        69.8\n",
      "        22        71.6\n",
      "        23        73.4\n",
      "        24        75.2\n",
      "        25        77.0\n",
      "        26        78.8\n",
      "        27        80.6\n",
      "        28        82.4\n",
      "        29        84.2\n",
      "        30        86.0\n",
      "        31        87.8\n",
      "        32        89.6\n",
      "        33        91.4\n",
      "        34        93.2\n",
      "        35        95.0\n",
      "        36        96.8\n",
      "        37        98.6\n",
      "        38       100.4\n",
      "        39       102.2\n",
      "        40       104.0\n",
      "        41       105.8\n",
      "        42       107.6\n",
      "        43       109.4\n",
      "        44       111.2\n",
      "        45       113.0\n",
      "        46       114.8\n",
      "        47       116.6\n",
      "        48       118.4\n",
      "        49       120.2\n",
      "        50       122.0\n",
      "        51       123.8\n",
      "        52       125.6\n",
      "        53       127.4\n",
      "        54       129.2\n",
      "        55       131.0\n",
      "        56       132.8\n",
      "        57       134.6\n",
      "        58       136.4\n",
      "        59       138.2\n",
      "        60       140.0\n",
      "        61       141.8\n",
      "        62       143.6\n",
      "        63       145.4\n",
      "        64       147.2\n",
      "        65       149.0\n",
      "        66       150.8\n",
      "        67       152.6\n",
      "        68       154.4\n",
      "        69       156.2\n",
      "        70       158.0\n",
      "        71       159.8\n",
      "        72       161.6\n",
      "        73       163.4\n",
      "        74       165.2\n",
      "        75       167.0\n",
      "        76       168.8\n",
      "        77       170.6\n",
      "        78       172.4\n",
      "        79       174.2\n",
      "        80       176.0\n",
      "        81       177.8\n",
      "        82       179.6\n",
      "        83       181.4\n",
      "        84       183.2\n",
      "        85       185.0\n",
      "        86       186.8\n",
      "        87       188.6\n",
      "        88       190.4\n",
      "        89       192.2\n",
      "        90       194.0\n",
      "        91       195.8\n",
      "        92       197.6\n",
      "        93       199.4\n",
      "        94       201.2\n",
      "        95       203.0\n",
      "        96       204.8\n",
      "        97       206.6\n",
      "        98       208.4\n",
      "        99       210.2\n",
      "       100       212.0\n"
     ]
    }
   ],
   "source": [
    "def fahrenheit(C):\n",
    "    \"\"\"Convert Celsius to Fahrenheit.\"\"\"\n",
    "    return (9 / 5) * C + 32\n",
    "\n",
    "\n",
    "print(f'{\"Celsius\":>10}  {\"Fahrenheit\":>10}') # print columns Celsius and Fahrenheit used f-string to space it correct\n",
    "\n",
    "for celsius in range(101): # calculate Fahrenheit equivalent for Celsius in the range 0-100\n",
    "    print(f'{celsius:>10}  {fahrenheit(celsius):>10.1f}') # print temperatures, making sure that Fahrenheit is one decimal "
   ]
  },
  {
   "cell_type": "markdown",
   "metadata": {},
   "source": [
    "## 4.3 What's Wrong with This Code?"
   ]
  },
  {
   "cell_type": "markdown",
   "metadata": {},
   "source": [
    "Q. What is wrong with the following cube function’s definition?\n",
    "\n",
    "def cube(x):\n",
    "\n",
    "    \"\"\"Calculate the cube of x.\"\"\"\n",
    "    \n",
    "    x ** 3\n",
    "    \n",
    "print('The cube of 2 is', cube(2))\n",
    "\n",
    "A: Add a return statement."
   ]
  },
  {
   "cell_type": "code",
   "execution_count": 3,
   "metadata": {},
   "outputs": [
    {
     "name": "stdout",
     "output_type": "stream",
     "text": [
      "The cube of 2 is 8\n"
     ]
    }
   ],
   "source": [
    "# Add a return statement\n",
    "\n",
    "def cube(x):\n",
    "    \"\"\"Calculate the cube of x.\"\"\"\n",
    "    return x ** 3\n",
    "print('The cube of 2 is', cube(2))"
   ]
  },
  {
   "cell_type": "markdown",
   "metadata": {},
   "source": [
    "## 4.14 Computer Assisted Instruction"
   ]
  },
  {
   "cell_type": "markdown",
   "metadata": {},
   "source": [
    "Write a script to help an elementary school student learn multiplication."
   ]
  },
  {
   "cell_type": "code",
   "execution_count": 4,
   "metadata": {},
   "outputs": [
    {
     "name": "stdout",
     "output_type": "stream",
     "text": [
      "How much is 2 * 7?\n"
     ]
    },
    {
     "name": "stdin",
     "output_type": "stream",
     "text": [
      "Enter your answer (-1 to exit):  14\n"
     ]
    },
    {
     "name": "stdout",
     "output_type": "stream",
     "text": [
      "Very Good!\n",
      "How much is 5 * 9?\n"
     ]
    },
    {
     "name": "stdin",
     "output_type": "stream",
     "text": [
      "Enter your answer (-1 to exit):  5\n"
     ]
    },
    {
     "name": "stdout",
     "output_type": "stream",
     "text": [
      "No. Please try again.\n"
     ]
    },
    {
     "name": "stdin",
     "output_type": "stream",
     "text": [
      "Enter your answer (-1 to exit):  45\n"
     ]
    },
    {
     "name": "stdout",
     "output_type": "stream",
     "text": [
      "Very Good!\n",
      "How much is 3 * 6?\n"
     ]
    },
    {
     "name": "stdin",
     "output_type": "stream",
     "text": [
      "Enter your answer (-1 to exit):  -1\n"
     ]
    },
    {
     "name": "stdout",
     "output_type": "stream",
     "text": [
      "Thanks for playing!\n"
     ]
    }
   ],
   "source": [
    "import random\n",
    "\n",
    "def random_problem():\n",
    "    \"\"\"Generate a random tuple of two integers.\"\"\"\n",
    "    # get two random numbers between 0 and 9\n",
    "    digit1 = random.randrange(10)\n",
    "    digit2 = random.randrange(10)\n",
    "    return (f'How much is {digit1} * {digit2}?', digit1 * digit2)\n",
    "\n",
    "def check_answer(guess, answer):\n",
    "    \"\"\"Check if user answered correctly and return a Boolean.\"\"\"\n",
    "    if guess != answer:\n",
    "        print('No. Please try again.')\n",
    "        return False\n",
    "    else:\n",
    "        print('Very Good!')\n",
    "        return True\n",
    "\n",
    "# run the computer assisted instruction program\n",
    "question, answer = random_problem()\n",
    "print(question)\n",
    "guess = int(input('Enter your answer (-1 to exit): '))\n",
    "\n",
    "while guess != -1:\n",
    "    correct = check_answer(guess, answer)\n",
    "    if correct:\n",
    "        question, answer = random_problem()\n",
    "        print(question)\n",
    "    guess = int(input('Enter your answer (-1 to exit): '))\n",
    "print('Thanks for playing!')"
   ]
  },
  {
   "cell_type": "markdown",
   "metadata": {},
   "source": [
    "## 5.6 Functions Returning Tuples"
   ]
  },
  {
   "cell_type": "markdown",
   "metadata": {},
   "source": [
    "Define a function rotate that receives three arguments and returns a tuple in which the first argument is at index 1, the second argument is at index 2 and the third argument is at index 0. Define variables a, b and c containing 'Doug', 22 and 1984. Then call the function three times. For each call, unpack its result into a, b and c, then display their values."
   ]
  },
  {
   "cell_type": "code",
   "execution_count": 11,
   "metadata": {},
   "outputs": [
    {
     "name": "stdout",
     "output_type": "stream",
     "text": [
      "a = 1984; b = Doug; c = 22\n",
      "a = 22; b = 1984; c = Doug\n",
      "a = Doug; b = 22; c = 1984\n"
     ]
    }
   ],
   "source": [
    "def rotate(a, b, c):\n",
    "    \"\"\"Moves every item to the right by one. Last item goes to the front.\"\"\"\n",
    "    return (c, a, b)\n",
    "\n",
    "a = 'Doug'\n",
    "b = 22\n",
    "c = 1984\n",
    "\n",
    "# in tuples, we can swap values using the rotate function\n",
    "a, b, c = rotate(a,b,c) \n",
    "print(f'a = {a}; b = {b}; c = {c}')\n",
    "\n",
    "a, b, c = rotate(a,b,c)\n",
    "print(f'a = {a}; b = {b}; c = {c}')\n",
    "\n",
    "a, b, c = rotate(a,b,c)\n",
    "print(f'a = {a}; b = {b}; c = {c}')"
   ]
  },
  {
   "cell_type": "markdown",
   "metadata": {},
   "source": [
    "## 5.7 Data Science: Duplicate Elimination"
   ]
  },
  {
   "cell_type": "markdown",
   "metadata": {},
   "source": [
    "Create a function that receives a list and returns a (possibly shorter) list containing only the unique values in sorted order. Test your function with a list of numbers and a list of strings."
   ]
  },
  {
   "cell_type": "code",
   "execution_count": 5,
   "metadata": {},
   "outputs": [
    {
     "name": "stdout",
     "output_type": "stream",
     "text": [
      "[1]\n",
      "[1, 2, 3]\n",
      "[2, 3]\n"
     ]
    }
   ],
   "source": [
    "def unique(values):\n",
    "    \"\"\"Remove duplicate values from a sequence and return a sorted list of the unique values\"\"\"\n",
    "    non_duplicates = []\n",
    "    for value in values:\n",
    "        if value not in non_duplicates:\n",
    "            non_duplicates.append(value)\n",
    "    non_duplicates.sort()\n",
    "    return non_duplicates\n",
    "\n",
    "print(unique([1, 1, 1, 1]))\n",
    "print(unique([1, 2, 3, 1]))\n",
    "print(unique([3, 2, 3]))"
   ]
  },
  {
   "cell_type": "markdown",
   "metadata": {},
   "source": [
    "## 5.14 Is a Sequence Sorted?"
   ]
  },
  {
   "cell_type": "markdown",
   "metadata": {},
   "source": [
    "Create a function is_ordered that receives a sequence and returns True if the elements are in sorted order. Test your function with sorted and unsorted lists, tuples and strings."
   ]
  },
  {
   "cell_type": "code",
   "execution_count": 6,
   "metadata": {},
   "outputs": [
    {
     "name": "stdout",
     "output_type": "stream",
     "text": [
      "False\n",
      "True\n",
      "True\n",
      "False\n"
     ]
    }
   ],
   "source": [
    "def is_ordered(sequence):\n",
    "    \"\"\"Returns whether or not a sequence is sorted.\"\"\"\n",
    "    for i in range(len(sequence)-1):\n",
    "        if sequence[i] > sequence[i+1]:\n",
    "            return False\n",
    "    return True\n",
    "\n",
    "print(is_ordered((5, 1, 2)))\n",
    "print(is_ordered([5, 5, 5]))\n",
    "print(is_ordered('Sally'))\n",
    "print(is_ordered('sally'))"
   ]
  },
  {
   "cell_type": "markdown",
   "metadata": {},
   "source": [
    "## 5.27 Data Science: Duplicate Elimination and Counting Frequencies"
   ]
  },
  {
   "cell_type": "markdown",
   "metadata": {},
   "source": [
    "Use a list comprehension to create a list of 50 random values in the range 1 through 10. Use NumPy’s unique function to obtain the unique values and their frequencies. Display the results."
   ]
  },
  {
   "cell_type": "code",
   "execution_count": 11,
   "metadata": {},
   "outputs": [
    {
     "name": "stdout",
     "output_type": "stream",
     "text": [
      "Value   Frequency\n",
      "    1           8\n",
      "    2           4\n",
      "    3           2\n",
      "    4           7\n",
      "    5           4\n",
      "    6           5\n",
      "    7           4\n",
      "    8           3\n",
      "    9           8\n",
      "   10           5\n"
     ]
    }
   ],
   "source": [
    "random_integers = [random.randrange(1, 11) for i in range(50)] # list comprehension to compact one line\n",
    "values, counts = np.unique(random_integers, return_counts = True) # numpy.unique is unique list with the return counts\n",
    "print(f'{\"Value\":>5}{\"Frequency\":>12}')\n",
    "for value, count in zip(values, counts):\n",
    "    print(f'{value:>5}{count:>12}')"
   ]
  }
 ],
 "metadata": {
  "kernelspec": {
   "display_name": "Python 3",
   "language": "python",
   "name": "python3"
  },
  "language_info": {
   "codemirror_mode": {
    "name": "ipython",
    "version": 3
   },
   "file_extension": ".py",
   "mimetype": "text/x-python",
   "name": "python",
   "nbconvert_exporter": "python",
   "pygments_lexer": "ipython3",
   "version": "3.8.5"
  }
 },
 "nbformat": 4,
 "nbformat_minor": 4
}
